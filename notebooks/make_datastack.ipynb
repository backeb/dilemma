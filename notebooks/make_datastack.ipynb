{
 "cells": [
  {
   "cell_type": "markdown",
   "metadata": {},
   "source": [
    "# Development notebook - make_datastack\n",
    "\n",
    "Author(s): [Bjorn Backeberg](mailto:backeb@gmail.com) <br>\n",
    "Creation date: 20 Mar 2020 <br>\n",
    "Last updated: 20 Mar 2020 <br>\n",
    "\n",
    "---\n",
    "\n",
    "## Purpose\n",
    "1. Download GlobCurrent data for region of interest\n",
    "2. Create organise data in such a way that it can be applied to machine learning algorithm\n",
    "3. Visualise"
   ]
  },
  {
   "cell_type": "markdown",
   "metadata": {},
   "source": [
    "## Import some libraries"
   ]
  },
  {
   "cell_type": "code",
   "execution_count": null,
   "metadata": {},
   "outputs": [],
   "source": []
  }
 ],
 "metadata": {
  "kernelspec": {
   "display_name": "Python 3",
   "language": "python",
   "name": "python3"
  },
  "language_info": {
   "codemirror_mode": {
    "name": "ipython",
    "version": 3
   },
   "file_extension": ".py",
   "mimetype": "text/x-python",
   "name": "python",
   "nbconvert_exporter": "python",
   "pygments_lexer": "ipython3",
   "version": "3.7.4"
  }
 },
 "nbformat": 4,
 "nbformat_minor": 4
}
