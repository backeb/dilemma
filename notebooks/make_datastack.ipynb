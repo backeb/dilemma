{
 "cells": [
  {
   "attachments": {},
   "cell_type": "markdown",
   "metadata": {},
   "source": [
    "# Development notebook to download and organise Globcurrent data\n",
    "Author(s): [Bjorn Backeberg](mailto:backeb@gmail.com) (backeb) <br> \n",
    "Creation date: 20 May 2020 <br>\n",
    "Last updated:   <br>\n",
    "\n",
    "---\n",
    "\n",
    "## What it does\n",
    "\n",
    "---\n",
    "## Dependencies\n",
    "\n"
   ]
  },
  {
   "cell_type": "markdown",
   "metadata": {},
   "source": [
    "#### Import some libs"
   ]
  },
  {
   "cell_type": "code",
   "execution_count": null,
   "metadata": {},
   "outputs": [],
   "source": [
    "import xarray as xr\n"
   ]
  },
  {
   "cell_type": "code",
   "execution_count": null,
   "metadata": {},
   "outputs": [],
   "source": [
    "base_url = 'http://tds0.ifremer.fr/thredds/dodsC/GLOBCURRENT-L4-CUREUL_15M-ALT_SUM_NRT-V03.0.html'\n",
    "\n",
    "https://rabernat.github.io/research_computing_2018/xarray-tips-and-tricks.html"
   ]
  },
  {
   "cell_type": "code",
   "execution_count": null,
   "metadata": {},
   "outputs": [],
   "source": [
    "'Option to get data directly from CMEMS'\n",
    "python -m motuclient --motu http://nrt.cmems-du.eu/motu-web/Motu --service-id MULTIOBS_GLO_PHY_NRT_015_003-TDS --product-id dataset-uv-nrt-daily --longitude-min -179.875 --longitude-max 179.875 --latitude-min -89.875 --latitude-max 89.875 --date-min \"2020-05-13 09:00:00\" --date-max \"2020-05-13 09:00:00\" --depth-min -1 --depth-max 1 --variable uo --variable vo --out-dir <OUTPUT_DIRECTORY> --out-name <OUTPUT_FILENAME> --user <USERNAME> --pwd <PASSWORD>\n",
    "https://github.com/clstoulouse/motu-client-python#Configuration    "
   ]
  }
 ],
 "metadata": {
  "kernelspec": {
   "display_name": "Python 3",
   "language": "python",
   "name": "python3"
  },
  "language_info": {
   "codemirror_mode": {
    "name": "ipython",
    "version": 3
   },
   "file_extension": ".py",
   "mimetype": "text/x-python",
   "name": "python",
   "nbconvert_exporter": "python",
   "pygments_lexer": "ipython3",
   "version": "3.7.4"
  }
 },
 "nbformat": 4,
 "nbformat_minor": 4
}
