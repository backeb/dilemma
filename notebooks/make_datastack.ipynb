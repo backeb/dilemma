{
 "cells": [
  {
   "cell_type": "markdown",
   "metadata": {},
   "source": [
    "# Development notebook to download and organise Globcurrent data\n",
    "Author(s): [Bjorn Backeberg](mailto:backeb@gmail.com) (backeb) <br> \n",
    "Creation date: 20 May 2020 <br>\n",
    "Last updated:   <br>\n",
    "\n",
    "---\n",
    "\n",
    "## What it does\n",
    "\n",
    "\n",
    "## Dependencies\n",
    "\n",
    "\n",
    "## To do's \n"
   ]
  },
  {
   "cell_type": "markdown",
   "metadata": {},
   "source": [
    "## Import necessary libraries"
   ]
  },
  {
   "cell_type": "code",
   "execution_count": 1,
   "metadata": {},
   "outputs": [],
   "source": [
    "import xarray as xr\n",
    "%matplotlib inline"
   ]
  },
  {
   "cell_type": "code",
   "execution_count": 2,
   "metadata": {},
   "outputs": [],
   "source": [
    "# use the delayed time product (dt) to create the ML training dataset\n",
    "# and then use the near real time product (nrt) to do the prediction\n",
    "dt_url='http://tds0.ifremer.fr/thredds/dodsC/GLOBCURRENT-L4-CUREUL_15M-ALT_SUM-V03.0'\n",
    "# nrt_url = 'http://tds0.ifremer.fr/thredds/dodsC/GLOBCURRENT-L4-CUREUL_15M-ALT_SUM_NRT-V03.0'\n",
    "\n",
    "# TODO = add widget to select dataset for which to make datastack\n",
    "# TODO = add SST dataset to available datasets to use"
   ]
  },
  {
   "cell_type": "code",
   "execution_count": 3,
   "metadata": {},
   "outputs": [],
   "source": [
    "ds = xr.open_dataset(dt_url).sel(lat=slice(-37.5, -20), \n",
    "                                 lon=slice(20, 35)\n",
    "                                )"
   ]
  },
  {
   "cell_type": "code",
   "execution_count": 4,
   "metadata": {},
   "outputs": [],
   "source": [
    "#ds.eastward_eulerian_current_velocity[0].plot()"
   ]
  },
  {
   "cell_type": "code",
   "execution_count": 5,
   "metadata": {},
   "outputs": [
    {
     "data": {
      "image/png": "[encoded data removed]",
      "text/plain": [
       "<Figure size 1040x800 with 1 Axes>"
      ]
     },
     "metadata": {
      "needs_background": "light"
     },
     "output_type": "display_data"
    }
   ],
   "source": [
    "import cartopy.crs as ccrs\n",
    "import cartopy\n",
    "import matplotlib.pyplot as plt\n",
    "import numpy as np\n",
    "\n",
    "fig=plt.figure(figsize=(13, 10),dpi=80) \n",
    "\n",
    "proj=ccrs.Mercator()\n",
    "ax=plt.axes(projection=proj)\n",
    "ax.coastlines()\n",
    "ax.set_extent([ds.lon.data.min(),ds.lon.data.max(),ds.lat.data.min(),ds.lat.data.max()],ccrs.PlateCarree())\n"
   ]
  },
  {
   "cell_type": "code",
   "execution_count": null,
   "metadata": {},
   "outputs": [],
   "source": [
    "# # here we calculate the wind speed magniture\n",
    "# uv = np.sqrt(u**2 + v**2)\n",
    "# # here we plot the wind nowcast\n",
    "# fig = plt.figure(figsize = (13, 10), dpi = 80) \n",
    "\n",
    "# # here we do all the plotting stuff\n",
    "# ax = plt.axes(projection=ccrs.Mercator(central_longitude = np.median(lon)))\n",
    "# # Set the map extent, making sure to specify the correct coordinate system\n",
    "# # for geographical coordinates:\n",
    "# ax.set_extent([ds.lon.data.min(), ds.lon.data.max(), ds.lat.data.min(), ds.lat.data.max()], crs=ccrs.PlateCarree())\n",
    "\n",
    "# ax.pcolormesh(lon, lat, uv, shading = 'gourand', cmap = plt.cm.Spectral_r, transform = ccrs.PlateCarree())\n",
    "# ax.streamplot(lon, lat, u, v, color = uv, \n",
    "#               cmap = plt.cm.copper, \n",
    "#               zorder = 10, \n",
    "#               density = 2, \n",
    "#               transform = ccrs.PlateCarree())\n",
    "\n",
    "# coastline = cfeature.GSHHSFeature(scale = 'intermediate', edgecolor = 'none', facecolor = 'grey')\n",
    "# ax.add_feature(coastline)\n",
    "\n",
    "# plt.title(\"GFS \"+str((pd.to_datetime(tm)).strftime('%Y-%m-%d %H:%M')))\n",
    "\n",
    "# plt.show()"
   ]
  }
 ],
 "metadata": {
  "kernelspec": {
   "display_name": "Python 3",
   "language": "python",
   "name": "python3"
  },
  "language_info": {
   "codemirror_mode": {
    "name": "ipython",
    "version": 3
   },
   "file_extension": ".py",
   "mimetype": "text/x-python",
   "name": "python",
   "nbconvert_exporter": "python",
   "pygments_lexer": "ipython3",
   "version": "3.7.4"
  }
 },
 "nbformat": 4,
 "nbformat_minor": 4
}
